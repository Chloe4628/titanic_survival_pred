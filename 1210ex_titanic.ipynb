{
 "cells": [
  {
   "cell_type": "markdown",
   "metadata": {},
   "source": [
    "# EDA"
   ]
  },
  {
   "cell_type": "code",
   "execution_count": 1,
   "metadata": {},
   "outputs": [
    {
     "name": "stdout",
     "output_type": "stream",
     "text": [
      "(891, 12)\n",
      "(418, 11)\n",
      "PassengerId      0\n",
      "Survived         0\n",
      "Pclass           0\n",
      "Name             0\n",
      "Sex              0\n",
      "Age            177\n",
      "SibSp            0\n",
      "Parch            0\n",
      "Ticket           0\n",
      "Fare             0\n",
      "Cabin          687\n",
      "Embarked         2\n",
      "dtype: int64\n",
      "PassengerId      0\n",
      "Pclass           0\n",
      "Name             0\n",
      "Sex              0\n",
      "Age             86\n",
      "SibSp            0\n",
      "Parch            0\n",
      "Ticket           0\n",
      "Fare             1\n",
      "Cabin          327\n",
      "Embarked         0\n",
      "dtype: int64\n"
     ]
    }
   ],
   "source": [
    "# 表格形状和缺失值检查\n",
    "\n",
    "import pandas as pd\n",
    "import numpy as np\n",
    "\n",
    "titanic_train = pd.read_csv('train.csv')\n",
    "titanic_test = pd.read_csv('test.csv')\n",
    "\n",
    "pd.set_option('display.max_columns', 1000) \n",
    "pd.set_option('display.width', 1000) \n",
    "\n",
    "print(titanic_train.shape)\n",
    "print(titanic_test.shape)\n",
    "print(titanic_train.isnull().sum())\n",
    "print(titanic_test.isnull().sum())"
   ]
  },
  {
   "cell_type": "code",
   "execution_count": 2,
   "metadata": {},
   "outputs": [
    {
     "name": "stdout",
     "output_type": "stream",
     "text": [
      "<class 'pandas.core.frame.DataFrame'>\n",
      "RangeIndex: 891 entries, 0 to 890\n",
      "Data columns (total 12 columns):\n",
      " #   Column       Non-Null Count  Dtype  \n",
      "---  ------       --------------  -----  \n",
      " 0   PassengerId  891 non-null    int64  \n",
      " 1   Survived     891 non-null    int64  \n",
      " 2   Pclass       891 non-null    int64  \n",
      " 3   Name         891 non-null    object \n",
      " 4   Sex          891 non-null    object \n",
      " 5   Age          714 non-null    float64\n",
      " 6   SibSp        891 non-null    int64  \n",
      " 7   Parch        891 non-null    int64  \n",
      " 8   Ticket       891 non-null    object \n",
      " 9   Fare         891 non-null    float64\n",
      " 10  Cabin        204 non-null    object \n",
      " 11  Embarked     889 non-null    object \n",
      "dtypes: float64(2), int64(5), object(5)\n",
      "memory usage: 83.7+ KB\n"
     ]
    }
   ],
   "source": [
    "titanic_train.info()"
   ]
  },
  {
   "cell_type": "code",
   "execution_count": 3,
   "metadata": {},
   "outputs": [
    {
     "name": "stdout",
     "output_type": "stream",
     "text": [
      "<class 'pandas.core.frame.DataFrame'>\n",
      "RangeIndex: 418 entries, 0 to 417\n",
      "Data columns (total 11 columns):\n",
      " #   Column       Non-Null Count  Dtype  \n",
      "---  ------       --------------  -----  \n",
      " 0   PassengerId  418 non-null    int64  \n",
      " 1   Pclass       418 non-null    int64  \n",
      " 2   Name         418 non-null    object \n",
      " 3   Sex          418 non-null    object \n",
      " 4   Age          332 non-null    float64\n",
      " 5   SibSp        418 non-null    int64  \n",
      " 6   Parch        418 non-null    int64  \n",
      " 7   Ticket       418 non-null    object \n",
      " 8   Fare         417 non-null    float64\n",
      " 9   Cabin        91 non-null     object \n",
      " 10  Embarked     418 non-null    object \n",
      "dtypes: float64(2), int64(4), object(5)\n",
      "memory usage: 36.1+ KB\n"
     ]
    }
   ],
   "source": [
    "titanic_test.info()"
   ]
  },
  {
   "cell_type": "code",
   "execution_count": 4,
   "metadata": {},
   "outputs": [
    {
     "data": {
      "text/html": [
       "<div>\n",
       "<style scoped>\n",
       "    .dataframe tbody tr th:only-of-type {\n",
       "        vertical-align: middle;\n",
       "    }\n",
       "\n",
       "    .dataframe tbody tr th {\n",
       "        vertical-align: top;\n",
       "    }\n",
       "\n",
       "    .dataframe thead th {\n",
       "        text-align: right;\n",
       "    }\n",
       "</style>\n",
       "<table border=\"1\" class=\"dataframe\">\n",
       "  <thead>\n",
       "    <tr style=\"text-align: right;\">\n",
       "      <th></th>\n",
       "      <th>PassengerId</th>\n",
       "      <th>Survived</th>\n",
       "      <th>Pclass</th>\n",
       "      <th>Age</th>\n",
       "      <th>SibSp</th>\n",
       "      <th>Parch</th>\n",
       "      <th>Fare</th>\n",
       "    </tr>\n",
       "  </thead>\n",
       "  <tbody>\n",
       "    <tr>\n",
       "      <th>count</th>\n",
       "      <td>891.000000</td>\n",
       "      <td>891.000000</td>\n",
       "      <td>891.000000</td>\n",
       "      <td>714.000000</td>\n",
       "      <td>891.000000</td>\n",
       "      <td>891.000000</td>\n",
       "      <td>891.000000</td>\n",
       "    </tr>\n",
       "    <tr>\n",
       "      <th>mean</th>\n",
       "      <td>446.000000</td>\n",
       "      <td>0.383838</td>\n",
       "      <td>2.308642</td>\n",
       "      <td>29.699118</td>\n",
       "      <td>0.523008</td>\n",
       "      <td>0.381594</td>\n",
       "      <td>32.204208</td>\n",
       "    </tr>\n",
       "    <tr>\n",
       "      <th>std</th>\n",
       "      <td>257.353842</td>\n",
       "      <td>0.486592</td>\n",
       "      <td>0.836071</td>\n",
       "      <td>14.526497</td>\n",
       "      <td>1.102743</td>\n",
       "      <td>0.806057</td>\n",
       "      <td>49.693429</td>\n",
       "    </tr>\n",
       "    <tr>\n",
       "      <th>min</th>\n",
       "      <td>1.000000</td>\n",
       "      <td>0.000000</td>\n",
       "      <td>1.000000</td>\n",
       "      <td>0.420000</td>\n",
       "      <td>0.000000</td>\n",
       "      <td>0.000000</td>\n",
       "      <td>0.000000</td>\n",
       "    </tr>\n",
       "    <tr>\n",
       "      <th>25%</th>\n",
       "      <td>223.500000</td>\n",
       "      <td>0.000000</td>\n",
       "      <td>2.000000</td>\n",
       "      <td>20.125000</td>\n",
       "      <td>0.000000</td>\n",
       "      <td>0.000000</td>\n",
       "      <td>7.910400</td>\n",
       "    </tr>\n",
       "    <tr>\n",
       "      <th>50%</th>\n",
       "      <td>446.000000</td>\n",
       "      <td>0.000000</td>\n",
       "      <td>3.000000</td>\n",
       "      <td>28.000000</td>\n",
       "      <td>0.000000</td>\n",
       "      <td>0.000000</td>\n",
       "      <td>14.454200</td>\n",
       "    </tr>\n",
       "    <tr>\n",
       "      <th>75%</th>\n",
       "      <td>668.500000</td>\n",
       "      <td>1.000000</td>\n",
       "      <td>3.000000</td>\n",
       "      <td>38.000000</td>\n",
       "      <td>1.000000</td>\n",
       "      <td>0.000000</td>\n",
       "      <td>31.000000</td>\n",
       "    </tr>\n",
       "    <tr>\n",
       "      <th>max</th>\n",
       "      <td>891.000000</td>\n",
       "      <td>1.000000</td>\n",
       "      <td>3.000000</td>\n",
       "      <td>80.000000</td>\n",
       "      <td>8.000000</td>\n",
       "      <td>6.000000</td>\n",
       "      <td>512.329200</td>\n",
       "    </tr>\n",
       "  </tbody>\n",
       "</table>\n",
       "</div>"
      ],
      "text/plain": [
       "       PassengerId    Survived      Pclass         Age       SibSp       Parch        Fare\n",
       "count   891.000000  891.000000  891.000000  714.000000  891.000000  891.000000  891.000000\n",
       "mean    446.000000    0.383838    2.308642   29.699118    0.523008    0.381594   32.204208\n",
       "std     257.353842    0.486592    0.836071   14.526497    1.102743    0.806057   49.693429\n",
       "min       1.000000    0.000000    1.000000    0.420000    0.000000    0.000000    0.000000\n",
       "25%     223.500000    0.000000    2.000000   20.125000    0.000000    0.000000    7.910400\n",
       "50%     446.000000    0.000000    3.000000   28.000000    0.000000    0.000000   14.454200\n",
       "75%     668.500000    1.000000    3.000000   38.000000    1.000000    0.000000   31.000000\n",
       "max     891.000000    1.000000    3.000000   80.000000    8.000000    6.000000  512.329200"
      ]
     },
     "execution_count": 4,
     "metadata": {},
     "output_type": "execute_result"
    }
   ],
   "source": [
    "titanic_train.describe()"
   ]
  },
  {
   "cell_type": "code",
   "execution_count": 5,
   "metadata": {},
   "outputs": [
    {
     "data": {
      "text/html": [
       "<div>\n",
       "<style scoped>\n",
       "    .dataframe tbody tr th:only-of-type {\n",
       "        vertical-align: middle;\n",
       "    }\n",
       "\n",
       "    .dataframe tbody tr th {\n",
       "        vertical-align: top;\n",
       "    }\n",
       "\n",
       "    .dataframe thead th {\n",
       "        text-align: right;\n",
       "    }\n",
       "</style>\n",
       "<table border=\"1\" class=\"dataframe\">\n",
       "  <thead>\n",
       "    <tr style=\"text-align: right;\">\n",
       "      <th></th>\n",
       "      <th>PassengerId</th>\n",
       "      <th>Pclass</th>\n",
       "      <th>Age</th>\n",
       "      <th>SibSp</th>\n",
       "      <th>Parch</th>\n",
       "      <th>Fare</th>\n",
       "    </tr>\n",
       "  </thead>\n",
       "  <tbody>\n",
       "    <tr>\n",
       "      <th>count</th>\n",
       "      <td>418.000000</td>\n",
       "      <td>418.000000</td>\n",
       "      <td>332.000000</td>\n",
       "      <td>418.000000</td>\n",
       "      <td>418.000000</td>\n",
       "      <td>417.000000</td>\n",
       "    </tr>\n",
       "    <tr>\n",
       "      <th>mean</th>\n",
       "      <td>1100.500000</td>\n",
       "      <td>2.265550</td>\n",
       "      <td>30.272590</td>\n",
       "      <td>0.447368</td>\n",
       "      <td>0.392344</td>\n",
       "      <td>35.627188</td>\n",
       "    </tr>\n",
       "    <tr>\n",
       "      <th>std</th>\n",
       "      <td>120.810458</td>\n",
       "      <td>0.841838</td>\n",
       "      <td>14.181209</td>\n",
       "      <td>0.896760</td>\n",
       "      <td>0.981429</td>\n",
       "      <td>55.907576</td>\n",
       "    </tr>\n",
       "    <tr>\n",
       "      <th>min</th>\n",
       "      <td>892.000000</td>\n",
       "      <td>1.000000</td>\n",
       "      <td>0.170000</td>\n",
       "      <td>0.000000</td>\n",
       "      <td>0.000000</td>\n",
       "      <td>0.000000</td>\n",
       "    </tr>\n",
       "    <tr>\n",
       "      <th>25%</th>\n",
       "      <td>996.250000</td>\n",
       "      <td>1.000000</td>\n",
       "      <td>21.000000</td>\n",
       "      <td>0.000000</td>\n",
       "      <td>0.000000</td>\n",
       "      <td>7.895800</td>\n",
       "    </tr>\n",
       "    <tr>\n",
       "      <th>50%</th>\n",
       "      <td>1100.500000</td>\n",
       "      <td>3.000000</td>\n",
       "      <td>27.000000</td>\n",
       "      <td>0.000000</td>\n",
       "      <td>0.000000</td>\n",
       "      <td>14.454200</td>\n",
       "    </tr>\n",
       "    <tr>\n",
       "      <th>75%</th>\n",
       "      <td>1204.750000</td>\n",
       "      <td>3.000000</td>\n",
       "      <td>39.000000</td>\n",
       "      <td>1.000000</td>\n",
       "      <td>0.000000</td>\n",
       "      <td>31.500000</td>\n",
       "    </tr>\n",
       "    <tr>\n",
       "      <th>max</th>\n",
       "      <td>1309.000000</td>\n",
       "      <td>3.000000</td>\n",
       "      <td>76.000000</td>\n",
       "      <td>8.000000</td>\n",
       "      <td>9.000000</td>\n",
       "      <td>512.329200</td>\n",
       "    </tr>\n",
       "  </tbody>\n",
       "</table>\n",
       "</div>"
      ],
      "text/plain": [
       "       PassengerId      Pclass         Age       SibSp       Parch        Fare\n",
       "count   418.000000  418.000000  332.000000  418.000000  418.000000  417.000000\n",
       "mean   1100.500000    2.265550   30.272590    0.447368    0.392344   35.627188\n",
       "std     120.810458    0.841838   14.181209    0.896760    0.981429   55.907576\n",
       "min     892.000000    1.000000    0.170000    0.000000    0.000000    0.000000\n",
       "25%     996.250000    1.000000   21.000000    0.000000    0.000000    7.895800\n",
       "50%    1100.500000    3.000000   27.000000    0.000000    0.000000   14.454200\n",
       "75%    1204.750000    3.000000   39.000000    1.000000    0.000000   31.500000\n",
       "max    1309.000000    3.000000   76.000000    8.000000    9.000000  512.329200"
      ]
     },
     "execution_count": 5,
     "metadata": {},
     "output_type": "execute_result"
    }
   ],
   "source": [
    "titanic_test.describe()"
   ]
  },
  {
   "cell_type": "code",
   "execution_count": 6,
   "metadata": {},
   "outputs": [
    {
     "data": {
      "text/plain": [
       "0.3838383838383838"
      ]
     },
     "execution_count": 6,
     "metadata": {},
     "output_type": "execute_result"
    }
   ],
   "source": [
    "titanic_train[\"Survived\"].mean()"
   ]
  },
  {
   "cell_type": "markdown",
   "metadata": {},
   "source": [
    "### 数值数据 Age, Fare, SibSp, Parch"
   ]
  },
  {
   "cell_type": "code",
   "execution_count": 7,
   "metadata": {},
   "outputs": [
    {
     "name": "stdout",
     "output_type": "stream",
     "text": [
      "未成年人平均生还率：\n",
      "0.5398230088495575\n",
      "成年人平均生还率：\n",
      "0.3810316139767055\n",
      "老年人平均生还率：\n",
      "0.09090909090909091\n"
     ]
    }
   ],
   "source": [
    "# 不同年龄群体生还率\n",
    "print(\"未成年人平均生还率：\")\n",
    "print(titanic_train.loc[titanic_train[\"Age\"] < 18, \"Survived\"].mean())\n",
    "print(\"成年人平均生还率：\")\n",
    "print(titanic_train.loc[titanic_train[\"Age\"] >= 18, \"Survived\"].mean())\n",
    "print(\"老年人平均生还率：\")\n",
    "print(titanic_train.loc[titanic_train[\"Age\"] >= 65, \"Survived\"].mean())"
   ]
  },
  {
   "cell_type": "code",
   "execution_count": 8,
   "metadata": {},
   "outputs": [
    {
     "name": "stdout",
     "output_type": "stream",
     "text": [
      "32.204207968574636\n"
     ]
    },
    {
     "data": {
      "image/png": "[encoded data removed]",
      "text/plain": [
       "<Figure size 300x300 with 1 Axes>"
      ]
     },
     "metadata": {},
     "output_type": "display_data"
    },
    {
     "name": "stdout",
     "output_type": "stream",
     "text": [
      "高消费群体（平均消费及以上）平均生还率：\n",
      "0.5971563981042654\n",
      "低消费群体（平均消费以下）平均生还率：\n",
      "0.3176470588235294\n"
     ]
    }
   ],
   "source": [
    "# 比较花销\n",
    "import matplotlib.pyplot as plt\n",
    "import seaborn as sns\n",
    "sns.set_theme()\n",
    "\n",
    "print(titanic_train[\"Fare\"].mean())\n",
    "\n",
    "plt.figure(figsize = (3, 3))\n",
    "plt.boxplot(titanic_train[\"Fare\"], meanline = True)\n",
    "plt.title(\"Boxplot of Fare\")\n",
    "plt.ylabel(\"Fare\")\n",
    "plt.show()\n",
    "\n",
    "print(\"高消费群体（平均消费及以上）平均生还率：\")\n",
    "print(titanic_train.loc[titanic_train[\"Fare\"] >= titanic_train[\"Fare\"].mean(), \"Survived\"].mean())\n",
    "print(\"低消费群体（平均消费以下）平均生还率：\")\n",
    "print(titanic_train.loc[titanic_train[\"Fare\"] < titanic_train[\"Fare\"].mean(), \"Survived\"].mean())"
   ]
  },
  {
   "cell_type": "markdown",
   "metadata": {},
   "source": [
    "由箱线图看来，贫富差距很明显，异常值需要处理；不同贫富群体生还率不同  "
   ]
  },
  {
   "cell_type": "code",
   "execution_count": 9,
   "metadata": {},
   "outputs": [
    {
     "name": "stdout",
     "output_type": "stream",
     "text": [
      "            Age      Fare     SibSp     Parch\n",
      "Age    1.000000  0.096067 -0.308247 -0.189119\n",
      "Fare   0.096067  1.000000  0.159651  0.216225\n",
      "SibSp -0.308247  0.159651  1.000000  0.414838\n",
      "Parch -0.189119  0.216225  0.414838  1.000000\n"
     ]
    },
    {
     "data": {
      "image/png": "[encoded data removed]",
      "text/plain": [
       "<Figure size 400x300 with 2 Axes>"
      ]
     },
     "metadata": {},
     "output_type": "display_data"
    }
   ],
   "source": [
    "print(titanic_train[['Age', 'Fare', 'SibSp', 'Parch']].corr())\n",
    "plt.figure(figsize = (4, 3))\n",
    "sns.heatmap(titanic_train[['Age', 'Fare', 'SibSp', 'Parch']].corr(), cmap = 'RdBu', annot = True, fmt=\".2f\")\n",
    "plt.title(\"Heatmap of Age, Fare, SibSp, Parch\")\n",
    "plt.show()"
   ]
  },
  {
   "cell_type": "markdown",
   "metadata": {},
   "source": [
    "### 分类数据 Sex, Pclass, Embarked"
   ]
  },
  {
   "cell_type": "code",
   "execution_count": 10,
   "metadata": {},
   "outputs": [
    {
     "name": "stdout",
     "output_type": "stream",
     "text": [
      "Survived    0    1\n",
      "Sex               \n",
      "female     81  233\n",
      "male      468  109\n",
      "Survived    0    1\n",
      "Pclass            \n",
      "1          80  136\n",
      "2          97   87\n",
      "3         372  119\n",
      "Survived    0    1\n",
      "Embarked          \n",
      "C          75   93\n",
      "Q          47   30\n",
      "S         427  217\n"
     ]
    }
   ],
   "source": [
    "# 透视表\n",
    "pivot_survived_Sex = titanic_train.pivot_table('PassengerId', index = 'Sex', columns = 'Survived', aggfunc = len)\n",
    "print(pivot_survived_Sex)\n",
    "\n",
    "pivot_survived_Pclass = titanic_train.pivot_table('PassengerId', index = 'Pclass', columns = 'Survived', aggfunc = len)\n",
    "print(pivot_survived_Pclass)\n",
    "\n",
    "pivot_survived_Embarked = titanic_train.pivot_table('PassengerId', index = 'Embarked', columns = 'Survived', aggfunc = len)\n",
    "print(pivot_survived_Embarked)"
   ]
  },
  {
   "cell_type": "code",
   "execution_count": 11,
   "metadata": {},
   "outputs": [
    {
     "data": {
      "image/png": "[encoded data removed]",
      "text/plain": [
       "<Figure size 900x300 with 3 Axes>"
      ]
     },
     "metadata": {},
     "output_type": "display_data"
    }
   ],
   "source": [
    "# 堆叠条形图\n",
    "fig, axes = plt.subplots(nrows = 1, ncols = 3, figsize = (9, 3))\n",
    "\n",
    "pivot_survived_Sex.plot(kind = 'bar', stacked = True, ax = axes[0], color = ['red', 'green'])\n",
    "axes[0].set_title('Titanic Survival by Sex')\n",
    "axes[0].set_xlabel('Sex')\n",
    "axes[0].set_ylabel('Number')\n",
    "axes[0].set_xticklabels(axes[0].get_xticklabels(), rotation = 0)\n",
    "axes[0].legend(title='If Survived', labels=['Died', 'Survived'])\n",
    "\n",
    "pivot_survived_Pclass.plot(kind = 'bar', stacked = True, ax = axes[1], color = ['red', 'green'])\n",
    "axes[1].set_title('Titanic Survival by Pclass')\n",
    "axes[1].set_xlabel('Pclass')\n",
    "axes[1].set_ylabel('Number')\n",
    "axes[1].set_xticklabels(axes[1].get_xticklabels(), rotation=0)\n",
    "axes[1].legend(title='If Survived', labels=['Died', 'Survived'])\n",
    "\n",
    "pivot_survived_Embarked.plot(kind = 'bar', stacked = True, ax = axes[2], color = ['red', 'green'])\n",
    "axes[2].set_title('Titanic Survival by Embarked')\n",
    "axes[2].set_xlabel('Embarked')\n",
    "axes[2].set_ylabel('Number')\n",
    "axes[2].set_xticklabels(axes[2].get_xticklabels(), rotation=0)\n",
    "axes[2].legend(title='If Survived', labels=['Died', 'Survived'])\n",
    "\n",
    "plt.tight_layout()\n",
    "plt.show()"
   ]
  },
  {
   "cell_type": "markdown",
   "metadata": {},
   "source": [
    "根据条形图，可以从三个维度上得出初步结论：  \n",
    "1. 相对于男性，女性生还率更高\n",
    "2. 头等舱生还率最高，其次是二等，最后是三等\n",
    "3. 生还率与登船港口之间似乎还不能看出什么直接关系"
   ]
  },
  {
   "cell_type": "markdown",
   "metadata": {},
   "source": [
    "# 缺失值和异常值处理"
   ]
  },
  {
   "cell_type": "code",
   "execution_count": 12,
   "metadata": {},
   "outputs": [
    {
     "name": "stdout",
     "output_type": "stream",
     "text": [
      "0\n",
      "0\n"
     ]
    }
   ],
   "source": [
    "# 缺失值\n",
    "titanic_train.fillna({'Age': titanic_train['Age'].median(), 'Cabin': 'Unknown', 'Embarked': 'S'}, inplace = True)\n",
    "print(titanic_train.isnull().sum().sum())\n",
    "\n",
    "titanic_test.fillna({'Age': titanic_train['Age'].median(), 'Cabin': 'Unknown', 'Fare': titanic_train['Fare'].mean()}, inplace = True)\n",
    "print(titanic_test.isnull().sum().sum())"
   ]
  },
  {
   "cell_type": "code",
   "execution_count": 13,
   "metadata": {},
   "outputs": [],
   "source": [
    "# 古怪的年龄，我选择四舍五入\n",
    "titanic_train['Age'] = titanic_train['Age'].round()\n",
    "titanic_test['Age'] = titanic_test['Age'].round()"
   ]
  },
  {
   "cell_type": "code",
   "execution_count": 14,
   "metadata": {},
   "outputs": [
    {
     "name": "stdout",
     "output_type": "stream",
     "text": [
      "   Pclass     Fare\n",
      "0       3   7.2500\n",
      "1       1  60.2875\n",
      "2       3   7.9250\n",
      "3       1  53.1000\n",
      "4       3   8.0500\n",
      "   Pclass     Fare\n",
      "0       3   7.8292\n",
      "1       3   7.0000\n",
      "2       2   9.6875\n",
      "3       3   8.6625\n",
      "4       3  12.2875\n"
     ]
    }
   ],
   "source": [
    "# 异常值\n",
    "Q1 = titanic_train['Fare'].quantile(0.25)\n",
    "Q3 = titanic_train['Fare'].quantile(0.75)\n",
    "IQR = Q3 - Q1\n",
    "\n",
    "upper_bound = Q3 + 1.5 * IQR\n",
    "outliers_condition = (titanic_train['Fare'] > upper_bound)\n",
    "\n",
    "for pclass in titanic_train['Pclass'].unique():\n",
    "    pclass_median = titanic_train[titanic_train['Pclass'] == pclass]['Fare'].median()\n",
    "    titanic_train.loc[outliers_condition & (titanic_train['Pclass'] == pclass), 'Fare'] = pclass_median\n",
    "print(titanic_train[['Pclass', 'Fare']].head())\n",
    "\n",
    "outliers_condition = (titanic_test['Fare'] > upper_bound)\n",
    "for pclass in titanic_test['Pclass'].unique():\n",
    "    pclass_median = titanic_test[titanic_test['Pclass'] == pclass]['Fare'].median()\n",
    "    titanic_test.loc[outliers_condition & (titanic_test['Pclass'] == pclass), 'Fare'] = pclass_median\n",
    "print(titanic_test[['Pclass', 'Fare']].head())"
   ]
  },
  {
   "cell_type": "markdown",
   "metadata": {},
   "source": [
    "# 特征工程"
   ]
  },
  {
   "cell_type": "code",
   "execution_count": 15,
   "metadata": {},
   "outputs": [
    {
     "name": "stderr",
     "output_type": "stream",
     "text": [
      "C:\\Users\\W11\\AppData\\Local\\Temp\\ipykernel_33392\\1074710181.py:1: FutureWarning: Downcasting behavior in `replace` is deprecated and will be removed in a future version. To retain the old behavior, explicitly call `result.infer_objects(copy=False)`. To opt-in to the future behavior, set `pd.set_option('future.no_silent_downcasting', True)`\n",
      "  titanic_train['ismale'] = titanic_train['Sex'].replace({'male': 1, 'female': 0}).infer_objects()\n",
      "C:\\Users\\W11\\AppData\\Local\\Temp\\ipykernel_33392\\1074710181.py:2: FutureWarning: Downcasting behavior in `replace` is deprecated and will be removed in a future version. To retain the old behavior, explicitly call `result.infer_objects(copy=False)`. To opt-in to the future behavior, set `pd.set_option('future.no_silent_downcasting', True)`\n",
      "  titanic_test['ismale'] = titanic_test['Sex'].replace({'male': 1, 'female': 0}).infer_objects()\n"
     ]
    }
   ],
   "source": [
    "titanic_train['ismale'] = titanic_train['Sex'].replace({'male': 1, 'female': 0}).infer_objects()\n",
    "titanic_test['ismale'] = titanic_test['Sex'].replace({'male': 1, 'female': 0}).infer_objects()"
   ]
  },
  {
   "cell_type": "code",
   "execution_count": 16,
   "metadata": {},
   "outputs": [
    {
     "name": "stdout",
     "output_type": "stream",
     "text": [
      "30                              Uruchurtu, Don. Manuel E\n",
      "149                    Byles, Rev. Thomas Roussel Davids\n",
      "150                           Bateman, Rev. Robert James\n",
      "249                        Carter, Rev. Ernest Courtenay\n",
      "369                        Aubart, Mme. Leontine Pauline\n",
      "443                            Reynaldo, Ms. Encarnacion\n",
      "449                       Peuchen, Major. Arthur Godfrey\n",
      "536                    Butt, Major. Archibald Willingham\n",
      "556    Duff Gordon, Lady. (Lucille Christiana Sutherl...\n",
      "599         Duff Gordon, Sir. Cosmo Edmund (\"Mr Morgan\")\n",
      "626                       Kirkland, Rev. Charles Leonard\n",
      "641                                 Sagesser, Mlle. Emma\n",
      "647                  Simonius-Blumer, Col. Oberst Alfons\n",
      "694                                      Weir, Col. John\n",
      "710     Mayne, Mlle. Berthe Antonine (\"Mrs de Villiers\")\n",
      "745                         Crosby, Capt. Edward Gifford\n",
      "759    Rothes, the Countess. of (Lucy Noel Martha Dye...\n",
      "822                      Reuchlin, Jonkheer. John George\n",
      "848                                    Harper, Rev. John\n",
      "886                                Montvila, Rev. Juozas\n",
      "Name: Name, dtype: object\n",
      "88           O'Donoghue, Ms. Bridget\n",
      "131        Gracie, Col. Archibald IV\n",
      "149           Lahtinen, Rev. William\n",
      "164    Peruschitz, Rev. Joseph Maria\n",
      "202           Astor, Col. John Jacob\n",
      "414     Oliva y Ocana, Dona. Fermina\n",
      "Name: Name, dtype: object\n"
     ]
    }
   ],
   "source": [
    "import re\n",
    "\n",
    "pattern = r'(Mr\\.|Mrs\\.|Miss\\.|Master\\.|Dr\\.)'\n",
    "title_mapping = {'Mr.': 1, 'Mrs.': 2, 'Miss.': 3, 'Master.': 4, 'Dr.': 5}\n",
    "titanic_train['Title'] = titanic_train['Name'].str.extract(pattern, flags=re.IGNORECASE)\n",
    "titanic_train['Title'] = titanic_train['Title'].map(title_mapping).fillna(0).astype(int)\n",
    "titanic_test['Title'] = titanic_test['Name'].str.extract(pattern, flags=re.IGNORECASE)\n",
    "titanic_test['Title'] = titanic_test['Title'].map(title_mapping).fillna(0).astype(int)\n",
    "\n",
    "print(titanic_train.loc[titanic_train['Title'] == 0, 'Name'])\n",
    "print(titanic_test.loc[titanic_test['Title'] == 0, 'Name'])"
   ]
  },
  {
   "cell_type": "code",
   "execution_count": 17,
   "metadata": {},
   "outputs": [
    {
     "data": {
      "image/png": "[encoded data removed]",
      "text/plain": [
       "<Figure size 300x300 with 1 Axes>"
      ]
     },
     "metadata": {},
     "output_type": "display_data"
    }
   ],
   "source": [
    "titanic_train['FamilySize'] = titanic_train['Parch'] + titanic_train['SibSp'] + 1\n",
    "titanic_test['FamilySize'] = titanic_test['Parch'] + titanic_test['SibSp'] + 1\n",
    "\n",
    "plt.figure(figsize = (3, 3))\n",
    "plt.bar(titanic_train['FamilySize'].value_counts().index.astype(int), titanic_train['FamilySize'].value_counts().values)\n",
    "plt.title('Family Size Distribution')\n",
    "plt.xticks(range(int(titanic_train['FamilySize'].value_counts().index.min()), int(titanic_train['FamilySize'].value_counts().index.max()) + 1))\n",
    "plt.xlabel('Family Size')\n",
    "plt.ylabel('Number')\n",
    "plt.show()"
   ]
  },
  {
   "cell_type": "code",
   "execution_count": 18,
   "metadata": {},
   "outputs": [
    {
     "data": {
      "image/png": "[encoded data removed]",
      "text/plain": [
       "<Figure size 300x300 with 1 Axes>"
      ]
     },
     "metadata": {},
     "output_type": "display_data"
    }
   ],
   "source": [
    "age_bins = [0, 12, 18, 35, 60, 100]  \n",
    "age_labels = range(1, 6)\n",
    "titanic_train['AgeGroup'] = pd.cut(titanic_train['Age'], bins = age_bins, labels = age_labels, right = False)\n",
    "titanic_test['AgeGroup'] = pd.cut(titanic_test['Age'], bins = age_bins, labels = age_labels, right = False)\n",
    "\n",
    "age_group_labels = {\n",
    "    1: 'Child', \n",
    "    2: 'Teenager', \n",
    "    3: 'Adult', \n",
    "    4: 'Middle-Aged', \n",
    "    5: 'Senior'\n",
    "}\n",
    "age_counts = titanic_train['AgeGroup'].value_counts()\n",
    "plt.figure(figsize = (3, 3))\n",
    "plt.pie(age_counts, labels = [age_group_labels[i] for i in age_counts.index], autopct = '%1.1f%%')\n",
    "plt.title(\"Age Group Distribution\")\n",
    "plt.show()"
   ]
  },
  {
   "cell_type": "code",
   "execution_count": 19,
   "metadata": {},
   "outputs": [
    {
     "data": {
      "image/png": "[encoded data removed]",
      "text/plain": [
       "<Figure size 300x300 with 1 Axes>"
      ]
     },
     "metadata": {},
     "output_type": "display_data"
    }
   ],
   "source": [
    "fare_bins = [0, 20, 40, 70]\n",
    "fare_labels = range(1, 4)\n",
    "titanic_train['FareGroup'] = pd.cut(titanic_train['Fare'], bins = fare_bins, labels = fare_labels, right = False)\n",
    "titanic_test['FareGroup'] = pd.cut(titanic_test['Fare'], bins = fare_bins, labels = fare_labels, right = False)\n",
    "\n",
    "fare_group_labels = {\n",
    "    1: 'Low', \n",
    "    2: 'Medium', \n",
    "    3: 'High'\n",
    "}\n",
    "fare_counts = titanic_train['FareGroup'].value_counts()\n",
    "plt.figure(figsize = (3, 3))\n",
    "plt.pie(fare_counts, labels = [fare_group_labels[i] for i in fare_counts.index], autopct = '%1.1f%%')\n",
    "plt.title(\"Fare Group Distribution\")\n",
    "plt.show()"
   ]
  },
  {
   "cell_type": "code",
   "execution_count": 20,
   "metadata": {},
   "outputs": [
    {
     "name": "stdout",
     "output_type": "stream",
     "text": [
      "   PassengerId  Survived  Pclass                                               Name     Sex   Age  SibSp  Parch            Ticket     Fare    Cabin  Embarked  ismale  Title  FamilySize AgeGroup FareGroup\n",
      "0            1         0       3                            Braund, Mr. Owen Harris    male  22.0      1      0         A/5 21171   7.2500  Unknown         1       1      1           2        3         1\n",
      "1            2         1       1  Cumings, Mrs. John Bradley (Florence Briggs Th...  female  38.0      1      0          PC 17599  60.2875      C85         3       0      2           2        4         3\n",
      "2            3         1       3                             Heikkinen, Miss. Laina  female  26.0      0      0  STON/O2. 3101282   7.9250  Unknown         1       0      3           1        3         1\n",
      "3            4         1       1       Futrelle, Mrs. Jacques Heath (Lily May Peel)  female  35.0      1      0            113803  53.1000     C123         1       0      2           2        4         3\n",
      "4            5         0       3                           Allen, Mr. William Henry    male  35.0      0      0            373450   8.0500  Unknown         1       1      1           1        4         1\n"
     ]
    }
   ],
   "source": [
    "embarked_labels = {\n",
    "    'S': 1,\n",
    "    'Q': 2,\n",
    "    'C': 3\n",
    "}\n",
    "titanic_train['Embarked'] = titanic_train['Embarked'].map(embarked_labels)\n",
    "titanic_test['Embarked'] = titanic_test['Embarked'].map(embarked_labels)\n",
    "print(titanic_train.head())"
   ]
  },
  {
   "cell_type": "markdown",
   "metadata": {},
   "source": [
    "# 预测"
   ]
  },
  {
   "cell_type": "code",
   "execution_count": 21,
   "metadata": {},
   "outputs": [
    {
     "name": "stdout",
     "output_type": "stream",
     "text": [
      "pearson Age: correlation = -0.0645773530147662, p_value = 0.05399020099514978\n",
      "pearson Fare: correlation = 0.3538891169180894, p_value = 1.1100247338047425e-27\n",
      "pearson FamilySize: correlation = 0.016638989282745213, p_value = 0.6198911221343032\n"
     ]
    }
   ],
   "source": [
    "num_features = ['Age', 'Fare', 'FamilySize']\n",
    "cat_features = ['ismale', 'Title', 'AgeGroup', 'FareGroup', 'Embarked', 'Pclass']\n",
    "features = num_features + cat_features\n",
    "\n",
    "# 数值特征：皮尔逊相关系数\n",
    "from scipy import stats\n",
    "for feature in num_features:\n",
    "    correlation, p_value = stats.pearsonr(titanic_train[feature], titanic_train['Survived'])\n",
    "    print(f'pearson {feature}: correlation = {correlation}, p_value = {p_value}')"
   ]
  },
  {
   "cell_type": "markdown",
   "metadata": {},
   "source": [
    "考虑移除FamilySize这一特征，对于Age，鉴于EDA中认为它对结果还是有一定影响，暂时保留"
   ]
  },
  {
   "cell_type": "code",
   "execution_count": 22,
   "metadata": {},
   "outputs": [],
   "source": [
    "num_features.remove('FamilySize')"
   ]
  },
  {
   "cell_type": "code",
   "execution_count": null,
   "metadata": {},
   "outputs": [
    {
     "name": "stdout",
     "output_type": "stream",
     "text": [
      "     Feature  Chi2 Stat       P Value\n",
      "0     ismale  92.702447  6.077838e-22\n",
      "1      Title  99.280582  2.191463e-23\n",
      "2   AgeGroup   1.355409  2.443347e-01\n",
      "3  FareGroup  35.618837  2.399559e-09\n",
      "4   Embarked  10.711086  1.064955e-03\n",
      "5     Pclass  30.873699  2.753786e-08\n"
     ]
    }
   ],
   "source": [
    "# 分类特征：卡方检验\n",
    "from sklearn.feature_selection import chi2\n",
    "\n",
    "x_cat = titanic_train[cat_features]  \n",
    "y = titanic_train['Survived'] \n",
    "chi2_stat, p_value = chi2(x_cat, y)\n",
    "\n",
    "chi2_results = pd.DataFrame({\n",
    "    'Feature': x_cat.columns,\n",
    "    'Chi2 Stat': chi2_stat,\n",
    "    'P Value': p_value\n",
    "})\n",
    "print(chi2_results)"
   ]
  },
  {
   "cell_type": "markdown",
   "metadata": {},
   "source": [
    "对于AgeGroup考虑移除（而且已经保留了Age，存在多重共线性影响）"
   ]
  },
  {
   "cell_type": "code",
   "execution_count": 24,
   "metadata": {},
   "outputs": [
    {
     "name": "stdout",
     "output_type": "stream",
     "text": [
      "['Age', 'Fare', 'ismale', 'Title', 'FareGroup', 'Embarked', 'Pclass']\n"
     ]
    }
   ],
   "source": [
    "cat_features.remove('AgeGroup')\n",
    "features = num_features + cat_features\n",
    "print(features)"
   ]
  },
  {
   "cell_type": "markdown",
   "metadata": {},
   "source": [
    "权且保留这部分特征，但显然还有多重共线性影响（比如Fare和FareGroup），预计在Logistic回归中使用L1正则化"
   ]
  },
  {
   "cell_type": "code",
   "execution_count": 25,
   "metadata": {},
   "outputs": [
    {
     "name": "stdout",
     "output_type": "stream",
     "text": [
      "        Age      Fare  ismale  Title FareGroup  Embarked  Pclass\n",
      "0 -0.565459 -0.827423       1      1         1         1       3\n",
      "1  0.664317  2.016315       0      2         3         3       1\n",
      "2 -0.258015 -0.791231       0      3         1         1       3\n",
      "3  0.433734  1.630939       0      2         3         1       1\n",
      "4  0.433734 -0.784529       1      1         1         1       3\n",
      "        Age      Fare  ismale  Title FareGroup  Embarked  Pclass\n",
      "0  0.356873 -0.796367       1      1         1         2       3\n",
      "1  1.356065 -0.840827       0      2         1         1       3\n",
      "2  2.508980 -0.696730       1      1         1         2       2\n",
      "3 -0.181154 -0.751688       1      1         1         1       3\n",
      "4 -0.565459 -0.557325       0      2         1         1       3\n"
     ]
    }
   ],
   "source": [
    "from sklearn.linear_model import LogisticRegression\n",
    "from sklearn.preprocessing import StandardScaler\n",
    "\n",
    "X = titanic_train[features].copy()\n",
    "X_test = titanic_test[features].copy()\n",
    "y = titanic_train['Survived'].copy()\n",
    "scaler = StandardScaler()\n",
    "X[num_features] = scaler.fit_transform(X[num_features])\n",
    "X_test[num_features] = scaler.transform(X_test[num_features])\n",
    "print(X.head())\n",
    "print(X_test.head())"
   ]
  },
  {
   "cell_type": "code",
   "execution_count": null,
   "metadata": {},
   "outputs": [
    {
     "name": "stdout",
     "output_type": "stream",
     "text": [
      "[0 0 0 0 1 0 1 0 1 0 0 0 1 0 1 1 0 0 1 1 0 0 1 1 1 0 1 0 0 0 0 0 0 0 1 0 1\n",
      " 1 0 0 0 0 0 1 1 0 0 0 1 0 0 0 1 1 0 0 0 0 0 1 0 0 0 1 1 1 1 0 1 1 1 0 1 1\n",
      " 1 1 0 1 0 1 0 0 0 0 0 0 1 1 0 1 1 0 1 0 1 0 1 0 1 0 1 0 0 0 1 0 0 0 0 0 0\n",
      " 1 1 1 1 0 0 1 1 1 1 0 1 0 0 1 0 1 0 0 0 0 0 0 0 0 0 0 1 0 1 1 0 0 0 0 0 0\n",
      " 0 0 1 0 0 0 0 0 1 1 0 0 1 0 1 0 0 0 0 0 1 1 0 0 0 0 0 1 1 0 1 1 0 1 1 0 1\n",
      " 0 1 0 1 0 0 0 0 0 1 0 1 1 0 0 1 0 0 1 0 1 1 0 1 0 0 0 0 1 1 0 1 0 1 0 1 0\n",
      " 1 0 1 1 0 1 0 0 0 1 0 0 1 0 0 0 1 1 1 1 0 0 0 0 1 0 1 1 1 0 1 0 0 0 0 0 1\n",
      " 0 0 0 1 1 0 0 0 0 1 0 0 0 1 1 0 1 0 0 0 0 1 0 1 1 1 0 0 0 0 0 0 1 0 1 0 0\n",
      " 1 0 0 0 0 0 0 0 1 1 0 0 0 0 0 0 0 1 1 1 0 0 0 0 0 0 0 0 1 0 1 0 0 0 1 0 0\n",
      " 1 0 0 0 0 0 0 0 0 0 1 0 1 0 1 0 1 1 0 0 0 1 0 1 0 0 0 0 1 1 0 1 0 0 1 1 0\n",
      " 0 1 0 0 1 1 1 0 0 0 0 0 0 1 0 1 0 0 0 0 0 1 0 0 0 1 0 1 0 0 1 0 1 0 0 0 0\n",
      " 0 1 1 1 1 1 0 1 0 0 0]\n"
     ]
    }
   ],
   "source": [
    "X = X.values\n",
    "X_test = X_test.values\n",
    "y = y.values\n",
    "\n",
    "model = LogisticRegression(penalty = 'l1', solver = 'liblinear') \n",
    "model.fit(X, y)\n",
    "y_pred = model.predict(X_test)\n",
    "print(y_pred)"
   ]
  },
  {
   "cell_type": "code",
   "execution_count": 32,
   "metadata": {},
   "outputs": [],
   "source": [
    "titanic_test['Survived'] = y_pred\n",
    "submit = titanic_test[['PassengerId', 'Survived']]\n",
    "submit.to_csv('submit_01.csv', index = False)"
   ]
  },
  {
   "cell_type": "markdown",
   "metadata": {},
   "source": [
    "### 进行了第一次提交！\n",
    "主要精力放在了特征工程上，但是对回归模型还有许多完善的空间  \n",
    "改进方向也许是对train进行分割和交叉验证，修改回归模型，也可以尝试随机森林和SVC"
   ]
  },
  {
   "attachments": {
    "image.png": {
     "image/png": "[encoded data removed]"
    }
   },
   "cell_type": "markdown",
   "metadata": {},
   "source": [
    "![image.png](attachment:image.png)"
   ]
  }
 ],
 "metadata": {
  "kernelspec": {
   "display_name": "base",
   "language": "python",
   "name": "python3"
  },
  "language_info": {
   "codemirror_mode": {
    "name": "ipython",
    "version": 3
   },
   "file_extension": ".py",
   "mimetype": "text/x-python",
   "name": "python",
   "nbconvert_exporter": "python",
   "pygments_lexer": "ipython3",
   "version": "3.12.7"
  }
 },
 "nbformat": 4,
 "nbformat_minor": 2
}
